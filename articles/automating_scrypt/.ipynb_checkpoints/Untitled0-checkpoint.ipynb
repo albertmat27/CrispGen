{
 "metadata": {
  "name": "",
  "signature": "sha256:c283fd0e70784b42e6e211881b048ee06270e2e7efd067e5c69401470da981ac"
 },
 "nbformat": 3,
 "nbformat_minor": 0,
 "worksheets": []
}