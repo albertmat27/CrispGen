{
 "metadata": {
  "name": "",
  "signature": "sha256:91dae7f0fdeb51a45bc63c53696619c7af557468281e84002cb6b0f984b4a79b"
 },
 "nbformat": 3,
 "nbformat_minor": 0,
 "worksheets": [
  {
   "cells": [
    {
     "cell_type": "code",
     "collapsed": false,
     "input": [
      "#!/usr/bin/python2.7\n",
      "\n",
      "import fileinput, glob, string, sys, os\n",
      "from os.path import join\n",
      "\n",
      "stext = sys.argv[1]\n",
      "rtext = sys.argv[2]\n",
      "path = join(sys.argv[3], \"*\")\n",
      "\n",
      "files = glob.glob(path)\n",
      "\n",
      "for line in fileinput.input(files,inplace=1):\n",
      "    lineno = 0\n",
      "    lineno = string.find(line, stext)\n",
      "    if lineno >0:\n",
      "        line = line.replace(stext, rtext)\n",
      "\n",
      "    sys.stdout.write(line)"
     ],
     "language": "python",
     "metadata": {},
     "outputs": [],
     "prompt_number": 1
    },
    {
     "cell_type": "code",
     "collapsed": false,
     "input": [],
     "language": "python",
     "metadata": {},
     "outputs": []
    }
   ],
   "metadata": {}
  }
 ]
}